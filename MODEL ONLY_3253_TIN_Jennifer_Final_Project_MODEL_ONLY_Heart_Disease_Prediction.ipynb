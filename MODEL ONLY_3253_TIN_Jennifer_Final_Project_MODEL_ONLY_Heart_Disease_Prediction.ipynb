{
  "nbformat": 4,
  "nbformat_minor": 0,
  "metadata": {
    "colab": {
      "name": "3253 TIN_Jennifer - Final Project_MODEL ONLY_Heart Disease Prediction.ipynb",
      "version": "0.3.2",
      "provenance": []
    },
    "kernelspec": {
      "name": "python3",
      "display_name": "Python 3"
    }
  },
  "cells": [
    {
      "cell_type": "markdown",
      "metadata": {
        "id": "7gop00ug7m2T",
        "colab_type": "text"
      },
      "source": [
        "# YouTube Link - https://youtu.be/P7gRmcb7y8Q"
      ]
    },
    {
      "cell_type": "markdown",
      "metadata": {
        "id": "_gLHT_wpKuCN",
        "colab_type": "text"
      },
      "source": [
        "# **Import Dataset**"
      ]
    },
    {
      "cell_type": "code",
      "metadata": {
        "id": "FC08qZCk0Z04",
        "colab_type": "code",
        "outputId": "d7a26078-eafc-4991-a5b6-1d9813d84dac",
        "colab": {
          "base_uri": "https://localhost:8080/",
          "height": 54
        }
      },
      "source": [
        "import numpy as np\n",
        "from sklearn.cluster import KMeans\n",
        "import matplotlib.pyplot as plt\n",
        "import random\n",
        "from sklearn.metrics import silhouette_score\n",
        "from sklearn.cluster import AgglomerativeClustering\n",
        "import pandas as pd\n",
        "import numpy as np\n",
        "import statsmodels.api as sm\n",
        "import scipy.stats as st\n",
        "import matplotlib.pyplot as plt\n",
        "import seaborn as sns\n",
        "from sklearn.metrics import confusion_matrix\n",
        "import matplotlib.mlab as mlab\n",
        "from string import ascii_letters\n",
        "import numpy as np\n",
        "import pandas as pd\n",
        "import seaborn as sns\n",
        "import matplotlib.pyplot as plt\n",
        "%matplotlib inline\n",
        "random.seed(42)\n",
        "\n",
        "#Mount your Google drive \n",
        "from google.colab import drive\n",
        "drive.mount('/content/gdrive')"
      ],
      "execution_count": 8,
      "outputs": [
        {
          "output_type": "stream",
          "text": [
            "Drive already mounted at /content/gdrive; to attempt to forcibly remount, call drive.mount(\"/content/gdrive\", force_remount=True).\n"
          ],
          "name": "stdout"
        }
      ]
    },
    {
      "cell_type": "code",
      "metadata": {
        "id": "owjMPr2Z00TW",
        "colab_type": "code",
        "colab": {}
      },
      "source": [
        "import fileinput\n",
        "\n",
        "filePath =\"/content/gdrive/My Drive/3253 Data Science/Framingham Dataset/framingham.csv\"\n",
        "\n",
        "with fileinput.FileInput(filePath, inplace=True, backup='.bak') as file:\n",
        "    for line in file:\n",
        "        print(line.replace(\",\", \";\"), end='')"
      ],
      "execution_count": 0,
      "outputs": []
    },
    {
      "cell_type": "code",
      "metadata": {
        "id": "FEaOcWpW5PDG",
        "colab_type": "code",
        "colab": {}
      },
      "source": [
        "# Create dataframe\n",
        "import pandas as pd\n",
        "data = pd.read_csv(filePath, sep=\";\", index_col=0)"
      ],
      "execution_count": 0,
      "outputs": []
    },
    {
      "cell_type": "code",
      "metadata": {
        "id": "xhMBwDfG5UJq",
        "colab_type": "code",
        "outputId": "60db8b9c-638c-4365-8910-69c0f9d3fdac",
        "colab": {
          "base_uri": "https://localhost:8080/",
          "height": 34
        }
      },
      "source": [
        "data.shape"
      ],
      "execution_count": 11,
      "outputs": [
        {
          "output_type": "execute_result",
          "data": {
            "text/plain": [
              "(4240, 15)"
            ]
          },
          "metadata": {
            "tags": []
          },
          "execution_count": 11
        }
      ]
    },
    {
      "cell_type": "code",
      "metadata": {
        "id": "BkeonRAQ05hr",
        "colab_type": "code",
        "outputId": "0afe95c3-1383-488f-c3c8-73ee1dd21bc2",
        "colab": {
          "base_uri": "https://localhost:8080/",
          "height": 301
        }
      },
      "source": [
        "#see if there are any missing values in the dataset\n",
        "data.isnull().sum()\n",
        "\n",
        "#drop the missing data\n",
        "data.dropna(axis=0,inplace=True)\n",
        "\n",
        "#check the drop worked \n",
        "data.isnull().sum()\n"
      ],
      "execution_count": 12,
      "outputs": [
        {
          "output_type": "execute_result",
          "data": {
            "text/plain": [
              "age                0\n",
              "education          0\n",
              "currentSmoker      0\n",
              "cigsPerDay         0\n",
              "BPMeds             0\n",
              "prevalentStroke    0\n",
              "prevalentHyp       0\n",
              "diabetes           0\n",
              "totChol            0\n",
              "sysBP              0\n",
              "diaBP              0\n",
              "BMI                0\n",
              "heartRate          0\n",
              "glucose            0\n",
              "TenYearCHD         0\n",
              "dtype: int64"
            ]
          },
          "metadata": {
            "tags": []
          },
          "execution_count": 12
        }
      ]
    },
    {
      "cell_type": "code",
      "metadata": {
        "id": "FbdN8jfH5w7a",
        "colab_type": "code",
        "outputId": "9e290c21-f16d-4fd0-c582-103d3f9a4bd2",
        "colab": {
          "base_uri": "https://localhost:8080/",
          "height": 307
        }
      },
      "source": [
        "#look at the dataset again\n",
        "data.describe()"
      ],
      "execution_count": 13,
      "outputs": [
        {
          "output_type": "execute_result",
          "data": {
            "text/html": [
              "<div>\n",
              "<style scoped>\n",
              "    .dataframe tbody tr th:only-of-type {\n",
              "        vertical-align: middle;\n",
              "    }\n",
              "\n",
              "    .dataframe tbody tr th {\n",
              "        vertical-align: top;\n",
              "    }\n",
              "\n",
              "    .dataframe thead th {\n",
              "        text-align: right;\n",
              "    }\n",
              "</style>\n",
              "<table border=\"1\" class=\"dataframe\">\n",
              "  <thead>\n",
              "    <tr style=\"text-align: right;\">\n",
              "      <th></th>\n",
              "      <th>age</th>\n",
              "      <th>education</th>\n",
              "      <th>currentSmoker</th>\n",
              "      <th>cigsPerDay</th>\n",
              "      <th>BPMeds</th>\n",
              "      <th>prevalentStroke</th>\n",
              "      <th>prevalentHyp</th>\n",
              "      <th>diabetes</th>\n",
              "      <th>totChol</th>\n",
              "      <th>sysBP</th>\n",
              "      <th>diaBP</th>\n",
              "      <th>BMI</th>\n",
              "      <th>heartRate</th>\n",
              "      <th>glucose</th>\n",
              "      <th>TenYearCHD</th>\n",
              "    </tr>\n",
              "  </thead>\n",
              "  <tbody>\n",
              "    <tr>\n",
              "      <th>count</th>\n",
              "      <td>3658.000000</td>\n",
              "      <td>3658.000000</td>\n",
              "      <td>3658.000000</td>\n",
              "      <td>3658.000000</td>\n",
              "      <td>3658.000000</td>\n",
              "      <td>3658.000000</td>\n",
              "      <td>3658.000000</td>\n",
              "      <td>3658.000000</td>\n",
              "      <td>3658.000000</td>\n",
              "      <td>3658.000000</td>\n",
              "      <td>3658.000000</td>\n",
              "      <td>3658.000000</td>\n",
              "      <td>3658.000000</td>\n",
              "      <td>3658.000000</td>\n",
              "      <td>3658.000000</td>\n",
              "    </tr>\n",
              "    <tr>\n",
              "      <th>mean</th>\n",
              "      <td>49.551941</td>\n",
              "      <td>1.980317</td>\n",
              "      <td>0.489065</td>\n",
              "      <td>9.025424</td>\n",
              "      <td>0.030344</td>\n",
              "      <td>0.005741</td>\n",
              "      <td>0.311646</td>\n",
              "      <td>0.027064</td>\n",
              "      <td>236.847731</td>\n",
              "      <td>132.370558</td>\n",
              "      <td>82.917031</td>\n",
              "      <td>25.782802</td>\n",
              "      <td>75.730727</td>\n",
              "      <td>81.852925</td>\n",
              "      <td>0.152269</td>\n",
              "    </tr>\n",
              "    <tr>\n",
              "      <th>std</th>\n",
              "      <td>8.562029</td>\n",
              "      <td>1.022656</td>\n",
              "      <td>0.499949</td>\n",
              "      <td>11.921590</td>\n",
              "      <td>0.171557</td>\n",
              "      <td>0.075561</td>\n",
              "      <td>0.463229</td>\n",
              "      <td>0.162292</td>\n",
              "      <td>44.097681</td>\n",
              "      <td>22.086866</td>\n",
              "      <td>11.974258</td>\n",
              "      <td>4.065601</td>\n",
              "      <td>11.981525</td>\n",
              "      <td>23.904164</td>\n",
              "      <td>0.359331</td>\n",
              "    </tr>\n",
              "    <tr>\n",
              "      <th>min</th>\n",
              "      <td>32.000000</td>\n",
              "      <td>1.000000</td>\n",
              "      <td>0.000000</td>\n",
              "      <td>0.000000</td>\n",
              "      <td>0.000000</td>\n",
              "      <td>0.000000</td>\n",
              "      <td>0.000000</td>\n",
              "      <td>0.000000</td>\n",
              "      <td>113.000000</td>\n",
              "      <td>83.500000</td>\n",
              "      <td>48.000000</td>\n",
              "      <td>15.540000</td>\n",
              "      <td>44.000000</td>\n",
              "      <td>40.000000</td>\n",
              "      <td>0.000000</td>\n",
              "    </tr>\n",
              "    <tr>\n",
              "      <th>25%</th>\n",
              "      <td>42.000000</td>\n",
              "      <td>1.000000</td>\n",
              "      <td>0.000000</td>\n",
              "      <td>0.000000</td>\n",
              "      <td>0.000000</td>\n",
              "      <td>0.000000</td>\n",
              "      <td>0.000000</td>\n",
              "      <td>0.000000</td>\n",
              "      <td>206.000000</td>\n",
              "      <td>117.000000</td>\n",
              "      <td>75.000000</td>\n",
              "      <td>23.080000</td>\n",
              "      <td>68.000000</td>\n",
              "      <td>71.000000</td>\n",
              "      <td>0.000000</td>\n",
              "    </tr>\n",
              "    <tr>\n",
              "      <th>50%</th>\n",
              "      <td>49.000000</td>\n",
              "      <td>2.000000</td>\n",
              "      <td>0.000000</td>\n",
              "      <td>0.000000</td>\n",
              "      <td>0.000000</td>\n",
              "      <td>0.000000</td>\n",
              "      <td>0.000000</td>\n",
              "      <td>0.000000</td>\n",
              "      <td>234.000000</td>\n",
              "      <td>128.000000</td>\n",
              "      <td>82.000000</td>\n",
              "      <td>25.380000</td>\n",
              "      <td>75.000000</td>\n",
              "      <td>78.000000</td>\n",
              "      <td>0.000000</td>\n",
              "    </tr>\n",
              "    <tr>\n",
              "      <th>75%</th>\n",
              "      <td>56.000000</td>\n",
              "      <td>3.000000</td>\n",
              "      <td>1.000000</td>\n",
              "      <td>20.000000</td>\n",
              "      <td>0.000000</td>\n",
              "      <td>0.000000</td>\n",
              "      <td>1.000000</td>\n",
              "      <td>0.000000</td>\n",
              "      <td>263.000000</td>\n",
              "      <td>143.875000</td>\n",
              "      <td>90.000000</td>\n",
              "      <td>28.037500</td>\n",
              "      <td>82.000000</td>\n",
              "      <td>87.000000</td>\n",
              "      <td>0.000000</td>\n",
              "    </tr>\n",
              "    <tr>\n",
              "      <th>max</th>\n",
              "      <td>70.000000</td>\n",
              "      <td>4.000000</td>\n",
              "      <td>1.000000</td>\n",
              "      <td>70.000000</td>\n",
              "      <td>1.000000</td>\n",
              "      <td>1.000000</td>\n",
              "      <td>1.000000</td>\n",
              "      <td>1.000000</td>\n",
              "      <td>600.000000</td>\n",
              "      <td>295.000000</td>\n",
              "      <td>142.500000</td>\n",
              "      <td>56.800000</td>\n",
              "      <td>143.000000</td>\n",
              "      <td>394.000000</td>\n",
              "      <td>1.000000</td>\n",
              "    </tr>\n",
              "  </tbody>\n",
              "</table>\n",
              "</div>"
            ],
            "text/plain": [
              "               age    education  ...      glucose   TenYearCHD\n",
              "count  3658.000000  3658.000000  ...  3658.000000  3658.000000\n",
              "mean     49.551941     1.980317  ...    81.852925     0.152269\n",
              "std       8.562029     1.022656  ...    23.904164     0.359331\n",
              "min      32.000000     1.000000  ...    40.000000     0.000000\n",
              "25%      42.000000     1.000000  ...    71.000000     0.000000\n",
              "50%      49.000000     2.000000  ...    78.000000     0.000000\n",
              "75%      56.000000     3.000000  ...    87.000000     0.000000\n",
              "max      70.000000     4.000000  ...   394.000000     1.000000\n",
              "\n",
              "[8 rows x 15 columns]"
            ]
          },
          "metadata": {
            "tags": []
          },
          "execution_count": 13
        }
      ]
    },
    {
      "cell_type": "markdown",
      "metadata": {
        "id": "Z72DvsDx1s6y",
        "colab_type": "text"
      },
      "source": [
        "#**Logistic Regression**"
      ]
    },
    {
      "cell_type": "code",
      "metadata": {
        "id": "jPg0PAFz1sbJ",
        "colab_type": "code",
        "outputId": "948271d1-a8ea-48a9-e999-137dd58a6f94",
        "colab": {
          "base_uri": "https://localhost:8080/",
          "height": 283
        }
      },
      "source": [
        "from statsmodels.tools import add_constant as add_constant\n",
        "data_constant = add_constant(data)\n",
        "data_constant.head()"
      ],
      "execution_count": 14,
      "outputs": [
        {
          "output_type": "stream",
          "text": [
            "/usr/local/lib/python3.6/dist-packages/numpy/core/fromnumeric.py:2389: FutureWarning: Method .ptp is deprecated and will be removed in a future version. Use numpy.ptp instead.\n",
            "  return ptp(axis=axis, out=out, **kwargs)\n"
          ],
          "name": "stderr"
        },
        {
          "output_type": "execute_result",
          "data": {
            "text/html": [
              "<div>\n",
              "<style scoped>\n",
              "    .dataframe tbody tr th:only-of-type {\n",
              "        vertical-align: middle;\n",
              "    }\n",
              "\n",
              "    .dataframe tbody tr th {\n",
              "        vertical-align: top;\n",
              "    }\n",
              "\n",
              "    .dataframe thead th {\n",
              "        text-align: right;\n",
              "    }\n",
              "</style>\n",
              "<table border=\"1\" class=\"dataframe\">\n",
              "  <thead>\n",
              "    <tr style=\"text-align: right;\">\n",
              "      <th></th>\n",
              "      <th>const</th>\n",
              "      <th>age</th>\n",
              "      <th>education</th>\n",
              "      <th>currentSmoker</th>\n",
              "      <th>cigsPerDay</th>\n",
              "      <th>BPMeds</th>\n",
              "      <th>prevalentStroke</th>\n",
              "      <th>prevalentHyp</th>\n",
              "      <th>diabetes</th>\n",
              "      <th>totChol</th>\n",
              "      <th>sysBP</th>\n",
              "      <th>diaBP</th>\n",
              "      <th>BMI</th>\n",
              "      <th>heartRate</th>\n",
              "      <th>glucose</th>\n",
              "      <th>TenYearCHD</th>\n",
              "    </tr>\n",
              "    <tr>\n",
              "      <th>male</th>\n",
              "      <th></th>\n",
              "      <th></th>\n",
              "      <th></th>\n",
              "      <th></th>\n",
              "      <th></th>\n",
              "      <th></th>\n",
              "      <th></th>\n",
              "      <th></th>\n",
              "      <th></th>\n",
              "      <th></th>\n",
              "      <th></th>\n",
              "      <th></th>\n",
              "      <th></th>\n",
              "      <th></th>\n",
              "      <th></th>\n",
              "      <th></th>\n",
              "    </tr>\n",
              "  </thead>\n",
              "  <tbody>\n",
              "    <tr>\n",
              "      <th>1</th>\n",
              "      <td>1.0</td>\n",
              "      <td>39</td>\n",
              "      <td>4.0</td>\n",
              "      <td>0</td>\n",
              "      <td>0.0</td>\n",
              "      <td>0.0</td>\n",
              "      <td>0</td>\n",
              "      <td>0</td>\n",
              "      <td>0</td>\n",
              "      <td>195.0</td>\n",
              "      <td>106.0</td>\n",
              "      <td>70.0</td>\n",
              "      <td>26.97</td>\n",
              "      <td>80.0</td>\n",
              "      <td>77.0</td>\n",
              "      <td>0</td>\n",
              "    </tr>\n",
              "    <tr>\n",
              "      <th>0</th>\n",
              "      <td>1.0</td>\n",
              "      <td>46</td>\n",
              "      <td>2.0</td>\n",
              "      <td>0</td>\n",
              "      <td>0.0</td>\n",
              "      <td>0.0</td>\n",
              "      <td>0</td>\n",
              "      <td>0</td>\n",
              "      <td>0</td>\n",
              "      <td>250.0</td>\n",
              "      <td>121.0</td>\n",
              "      <td>81.0</td>\n",
              "      <td>28.73</td>\n",
              "      <td>95.0</td>\n",
              "      <td>76.0</td>\n",
              "      <td>0</td>\n",
              "    </tr>\n",
              "    <tr>\n",
              "      <th>1</th>\n",
              "      <td>1.0</td>\n",
              "      <td>48</td>\n",
              "      <td>1.0</td>\n",
              "      <td>1</td>\n",
              "      <td>20.0</td>\n",
              "      <td>0.0</td>\n",
              "      <td>0</td>\n",
              "      <td>0</td>\n",
              "      <td>0</td>\n",
              "      <td>245.0</td>\n",
              "      <td>127.5</td>\n",
              "      <td>80.0</td>\n",
              "      <td>25.34</td>\n",
              "      <td>75.0</td>\n",
              "      <td>70.0</td>\n",
              "      <td>0</td>\n",
              "    </tr>\n",
              "    <tr>\n",
              "      <th>0</th>\n",
              "      <td>1.0</td>\n",
              "      <td>61</td>\n",
              "      <td>3.0</td>\n",
              "      <td>1</td>\n",
              "      <td>30.0</td>\n",
              "      <td>0.0</td>\n",
              "      <td>0</td>\n",
              "      <td>1</td>\n",
              "      <td>0</td>\n",
              "      <td>225.0</td>\n",
              "      <td>150.0</td>\n",
              "      <td>95.0</td>\n",
              "      <td>28.58</td>\n",
              "      <td>65.0</td>\n",
              "      <td>103.0</td>\n",
              "      <td>1</td>\n",
              "    </tr>\n",
              "    <tr>\n",
              "      <th>0</th>\n",
              "      <td>1.0</td>\n",
              "      <td>46</td>\n",
              "      <td>3.0</td>\n",
              "      <td>1</td>\n",
              "      <td>23.0</td>\n",
              "      <td>0.0</td>\n",
              "      <td>0</td>\n",
              "      <td>0</td>\n",
              "      <td>0</td>\n",
              "      <td>285.0</td>\n",
              "      <td>130.0</td>\n",
              "      <td>84.0</td>\n",
              "      <td>23.10</td>\n",
              "      <td>85.0</td>\n",
              "      <td>85.0</td>\n",
              "      <td>0</td>\n",
              "    </tr>\n",
              "  </tbody>\n",
              "</table>\n",
              "</div>"
            ],
            "text/plain": [
              "      const  age  education  ...  heartRate  glucose  TenYearCHD\n",
              "male                         ...                                \n",
              "1       1.0   39        4.0  ...       80.0     77.0           0\n",
              "0       1.0   46        2.0  ...       95.0     76.0           0\n",
              "1       1.0   48        1.0  ...       75.0     70.0           0\n",
              "0       1.0   61        3.0  ...       65.0    103.0           1\n",
              "0       1.0   46        3.0  ...       85.0     85.0           0\n",
              "\n",
              "[5 rows x 16 columns]"
            ]
          },
          "metadata": {
            "tags": []
          },
          "execution_count": 14
        }
      ]
    },
    {
      "cell_type": "code",
      "metadata": {
        "id": "OXD0CgJFqxuO",
        "colab_type": "code",
        "outputId": "ee3ecdc1-44db-4e2b-b14b-6867ad6d33aa",
        "colab": {
          "base_uri": "https://localhost:8080/",
          "height": 283
        }
      },
      "source": [
        "from statsmodels.tools import add_constant as add_constant\n",
        "heart_df_constant = add_constant(data)\n",
        "heart_df_constant.head()"
      ],
      "execution_count": 15,
      "outputs": [
        {
          "output_type": "stream",
          "text": [
            "/usr/local/lib/python3.6/dist-packages/numpy/core/fromnumeric.py:2389: FutureWarning: Method .ptp is deprecated and will be removed in a future version. Use numpy.ptp instead.\n",
            "  return ptp(axis=axis, out=out, **kwargs)\n"
          ],
          "name": "stderr"
        },
        {
          "output_type": "execute_result",
          "data": {
            "text/html": [
              "<div>\n",
              "<style scoped>\n",
              "    .dataframe tbody tr th:only-of-type {\n",
              "        vertical-align: middle;\n",
              "    }\n",
              "\n",
              "    .dataframe tbody tr th {\n",
              "        vertical-align: top;\n",
              "    }\n",
              "\n",
              "    .dataframe thead th {\n",
              "        text-align: right;\n",
              "    }\n",
              "</style>\n",
              "<table border=\"1\" class=\"dataframe\">\n",
              "  <thead>\n",
              "    <tr style=\"text-align: right;\">\n",
              "      <th></th>\n",
              "      <th>const</th>\n",
              "      <th>age</th>\n",
              "      <th>education</th>\n",
              "      <th>currentSmoker</th>\n",
              "      <th>cigsPerDay</th>\n",
              "      <th>BPMeds</th>\n",
              "      <th>prevalentStroke</th>\n",
              "      <th>prevalentHyp</th>\n",
              "      <th>diabetes</th>\n",
              "      <th>totChol</th>\n",
              "      <th>sysBP</th>\n",
              "      <th>diaBP</th>\n",
              "      <th>BMI</th>\n",
              "      <th>heartRate</th>\n",
              "      <th>glucose</th>\n",
              "      <th>TenYearCHD</th>\n",
              "    </tr>\n",
              "    <tr>\n",
              "      <th>male</th>\n",
              "      <th></th>\n",
              "      <th></th>\n",
              "      <th></th>\n",
              "      <th></th>\n",
              "      <th></th>\n",
              "      <th></th>\n",
              "      <th></th>\n",
              "      <th></th>\n",
              "      <th></th>\n",
              "      <th></th>\n",
              "      <th></th>\n",
              "      <th></th>\n",
              "      <th></th>\n",
              "      <th></th>\n",
              "      <th></th>\n",
              "      <th></th>\n",
              "    </tr>\n",
              "  </thead>\n",
              "  <tbody>\n",
              "    <tr>\n",
              "      <th>1</th>\n",
              "      <td>1.0</td>\n",
              "      <td>39</td>\n",
              "      <td>4.0</td>\n",
              "      <td>0</td>\n",
              "      <td>0.0</td>\n",
              "      <td>0.0</td>\n",
              "      <td>0</td>\n",
              "      <td>0</td>\n",
              "      <td>0</td>\n",
              "      <td>195.0</td>\n",
              "      <td>106.0</td>\n",
              "      <td>70.0</td>\n",
              "      <td>26.97</td>\n",
              "      <td>80.0</td>\n",
              "      <td>77.0</td>\n",
              "      <td>0</td>\n",
              "    </tr>\n",
              "    <tr>\n",
              "      <th>0</th>\n",
              "      <td>1.0</td>\n",
              "      <td>46</td>\n",
              "      <td>2.0</td>\n",
              "      <td>0</td>\n",
              "      <td>0.0</td>\n",
              "      <td>0.0</td>\n",
              "      <td>0</td>\n",
              "      <td>0</td>\n",
              "      <td>0</td>\n",
              "      <td>250.0</td>\n",
              "      <td>121.0</td>\n",
              "      <td>81.0</td>\n",
              "      <td>28.73</td>\n",
              "      <td>95.0</td>\n",
              "      <td>76.0</td>\n",
              "      <td>0</td>\n",
              "    </tr>\n",
              "    <tr>\n",
              "      <th>1</th>\n",
              "      <td>1.0</td>\n",
              "      <td>48</td>\n",
              "      <td>1.0</td>\n",
              "      <td>1</td>\n",
              "      <td>20.0</td>\n",
              "      <td>0.0</td>\n",
              "      <td>0</td>\n",
              "      <td>0</td>\n",
              "      <td>0</td>\n",
              "      <td>245.0</td>\n",
              "      <td>127.5</td>\n",
              "      <td>80.0</td>\n",
              "      <td>25.34</td>\n",
              "      <td>75.0</td>\n",
              "      <td>70.0</td>\n",
              "      <td>0</td>\n",
              "    </tr>\n",
              "    <tr>\n",
              "      <th>0</th>\n",
              "      <td>1.0</td>\n",
              "      <td>61</td>\n",
              "      <td>3.0</td>\n",
              "      <td>1</td>\n",
              "      <td>30.0</td>\n",
              "      <td>0.0</td>\n",
              "      <td>0</td>\n",
              "      <td>1</td>\n",
              "      <td>0</td>\n",
              "      <td>225.0</td>\n",
              "      <td>150.0</td>\n",
              "      <td>95.0</td>\n",
              "      <td>28.58</td>\n",
              "      <td>65.0</td>\n",
              "      <td>103.0</td>\n",
              "      <td>1</td>\n",
              "    </tr>\n",
              "    <tr>\n",
              "      <th>0</th>\n",
              "      <td>1.0</td>\n",
              "      <td>46</td>\n",
              "      <td>3.0</td>\n",
              "      <td>1</td>\n",
              "      <td>23.0</td>\n",
              "      <td>0.0</td>\n",
              "      <td>0</td>\n",
              "      <td>0</td>\n",
              "      <td>0</td>\n",
              "      <td>285.0</td>\n",
              "      <td>130.0</td>\n",
              "      <td>84.0</td>\n",
              "      <td>23.10</td>\n",
              "      <td>85.0</td>\n",
              "      <td>85.0</td>\n",
              "      <td>0</td>\n",
              "    </tr>\n",
              "  </tbody>\n",
              "</table>\n",
              "</div>"
            ],
            "text/plain": [
              "      const  age  education  ...  heartRate  glucose  TenYearCHD\n",
              "male                         ...                                \n",
              "1       1.0   39        4.0  ...       80.0     77.0           0\n",
              "0       1.0   46        2.0  ...       95.0     76.0           0\n",
              "1       1.0   48        1.0  ...       75.0     70.0           0\n",
              "0       1.0   61        3.0  ...       65.0    103.0           1\n",
              "0       1.0   46        3.0  ...       85.0     85.0           0\n",
              "\n",
              "[5 rows x 16 columns]"
            ]
          },
          "metadata": {
            "tags": []
          },
          "execution_count": 15
        }
      ]
    },
    {
      "cell_type": "code",
      "metadata": {
        "id": "CLUAdW8ZqyMT",
        "colab_type": "code",
        "outputId": "8fc3b0b5-26f5-40f1-b991-aac862f494b9",
        "colab": {
          "base_uri": "https://localhost:8080/",
          "height": 497
        }
      },
      "source": [
        "st.chisqprob = lambda chisq, df: st.chi2.sf(chisq, df)\n",
        "cols=heart_df_constant.columns[:-1]\n",
        "model=sm.Logit(data.TenYearCHD,heart_df_constant[cols])\n",
        "result=model.fit()\n",
        "result.summary()"
      ],
      "execution_count": 16,
      "outputs": [
        {
          "output_type": "stream",
          "text": [
            "Optimization terminated successfully.\n",
            "         Current function value: 0.380070\n",
            "         Iterations 7\n"
          ],
          "name": "stdout"
        },
        {
          "output_type": "execute_result",
          "data": {
            "text/html": [
              "<table class=\"simpletable\">\n",
              "<caption>Logit Regression Results</caption>\n",
              "<tr>\n",
              "  <th>Dep. Variable:</th>      <td>TenYearCHD</td>    <th>  No. Observations:  </th>  <td>  3658</td>  \n",
              "</tr>\n",
              "<tr>\n",
              "  <th>Model:</th>                 <td>Logit</td>      <th>  Df Residuals:      </th>  <td>  3643</td>  \n",
              "</tr>\n",
              "<tr>\n",
              "  <th>Method:</th>                 <td>MLE</td>       <th>  Df Model:          </th>  <td>    14</td>  \n",
              "</tr>\n",
              "<tr>\n",
              "  <th>Date:</th>            <td>Sun, 18 Aug 2019</td> <th>  Pseudo R-squ.:     </th>  <td>0.1091</td>  \n",
              "</tr>\n",
              "<tr>\n",
              "  <th>Time:</th>                <td>22:22:53</td>     <th>  Log-Likelihood:    </th> <td> -1390.3</td> \n",
              "</tr>\n",
              "<tr>\n",
              "  <th>converged:</th>             <td>True</td>       <th>  LL-Null:           </th> <td> -1560.6</td> \n",
              "</tr>\n",
              "<tr>\n",
              "  <th>Covariance Type:</th>     <td>nonrobust</td>    <th>  LLR p-value:       </th> <td>3.860e-64</td>\n",
              "</tr>\n",
              "</table>\n",
              "<table class=\"simpletable\">\n",
              "<tr>\n",
              "         <td></td>            <th>coef</th>     <th>std err</th>      <th>z</th>      <th>P>|z|</th>  <th>[0.025</th>    <th>0.975]</th>  \n",
              "</tr>\n",
              "<tr>\n",
              "  <th>const</th>           <td>   -7.8757</td> <td>    0.702</td> <td>  -11.214</td> <td> 0.000</td> <td>   -9.252</td> <td>   -6.499</td>\n",
              "</tr>\n",
              "<tr>\n",
              "  <th>age</th>             <td>    0.0656</td> <td>    0.007</td> <td>    9.790</td> <td> 0.000</td> <td>    0.052</td> <td>    0.079</td>\n",
              "</tr>\n",
              "<tr>\n",
              "  <th>education</th>       <td>   -0.0458</td> <td>    0.050</td> <td>   -0.922</td> <td> 0.356</td> <td>   -0.143</td> <td>    0.052</td>\n",
              "</tr>\n",
              "<tr>\n",
              "  <th>currentSmoker</th>   <td>    0.0635</td> <td>    0.155</td> <td>    0.409</td> <td> 0.683</td> <td>   -0.241</td> <td>    0.368</td>\n",
              "</tr>\n",
              "<tr>\n",
              "  <th>cigsPerDay</th>      <td>    0.0261</td> <td>    0.006</td> <td>    4.357</td> <td> 0.000</td> <td>    0.014</td> <td>    0.038</td>\n",
              "</tr>\n",
              "<tr>\n",
              "  <th>BPMeds</th>          <td>    0.1123</td> <td>    0.233</td> <td>    0.482</td> <td> 0.630</td> <td>   -0.345</td> <td>    0.569</td>\n",
              "</tr>\n",
              "<tr>\n",
              "  <th>prevalentStroke</th> <td>    0.7085</td> <td>    0.490</td> <td>    1.447</td> <td> 0.148</td> <td>   -0.251</td> <td>    1.668</td>\n",
              "</tr>\n",
              "<tr>\n",
              "  <th>prevalentHyp</th>    <td>    0.2515</td> <td>    0.138</td> <td>    1.820</td> <td> 0.069</td> <td>   -0.019</td> <td>    0.522</td>\n",
              "</tr>\n",
              "<tr>\n",
              "  <th>diabetes</th>        <td>    0.0822</td> <td>    0.315</td> <td>    0.261</td> <td> 0.794</td> <td>   -0.536</td> <td>    0.700</td>\n",
              "</tr>\n",
              "<tr>\n",
              "  <th>totChol</th>         <td>    0.0016</td> <td>    0.001</td> <td>    1.413</td> <td> 0.158</td> <td>   -0.001</td> <td>    0.004</td>\n",
              "</tr>\n",
              "<tr>\n",
              "  <th>sysBP</th>           <td>    0.0125</td> <td>    0.004</td> <td>    3.336</td> <td> 0.001</td> <td>    0.005</td> <td>    0.020</td>\n",
              "</tr>\n",
              "<tr>\n",
              "  <th>diaBP</th>           <td>-2.039e-05</td> <td>    0.006</td> <td>   -0.003</td> <td> 0.997</td> <td>   -0.013</td> <td>    0.012</td>\n",
              "</tr>\n",
              "<tr>\n",
              "  <th>BMI</th>             <td>    0.0084</td> <td>    0.013</td> <td>    0.671</td> <td> 0.502</td> <td>   -0.016</td> <td>    0.033</td>\n",
              "</tr>\n",
              "<tr>\n",
              "  <th>heartRate</th>       <td>   -0.0059</td> <td>    0.004</td> <td>   -1.401</td> <td> 0.161</td> <td>   -0.014</td> <td>    0.002</td>\n",
              "</tr>\n",
              "<tr>\n",
              "  <th>glucose</th>         <td>    0.0072</td> <td>    0.002</td> <td>    3.249</td> <td> 0.001</td> <td>    0.003</td> <td>    0.012</td>\n",
              "</tr>\n",
              "</table>"
            ],
            "text/plain": [
              "<class 'statsmodels.iolib.summary.Summary'>\n",
              "\"\"\"\n",
              "                           Logit Regression Results                           \n",
              "==============================================================================\n",
              "Dep. Variable:             TenYearCHD   No. Observations:                 3658\n",
              "Model:                          Logit   Df Residuals:                     3643\n",
              "Method:                           MLE   Df Model:                           14\n",
              "Date:                Sun, 18 Aug 2019   Pseudo R-squ.:                  0.1091\n",
              "Time:                        22:22:53   Log-Likelihood:                -1390.3\n",
              "converged:                       True   LL-Null:                       -1560.6\n",
              "Covariance Type:            nonrobust   LLR p-value:                 3.860e-64\n",
              "===================================================================================\n",
              "                      coef    std err          z      P>|z|      [0.025      0.975]\n",
              "-----------------------------------------------------------------------------------\n",
              "const              -7.8757      0.702    -11.214      0.000      -9.252      -6.499\n",
              "age                 0.0656      0.007      9.790      0.000       0.052       0.079\n",
              "education          -0.0458      0.050     -0.922      0.356      -0.143       0.052\n",
              "currentSmoker       0.0635      0.155      0.409      0.683      -0.241       0.368\n",
              "cigsPerDay          0.0261      0.006      4.357      0.000       0.014       0.038\n",
              "BPMeds              0.1123      0.233      0.482      0.630      -0.345       0.569\n",
              "prevalentStroke     0.7085      0.490      1.447      0.148      -0.251       1.668\n",
              "prevalentHyp        0.2515      0.138      1.820      0.069      -0.019       0.522\n",
              "diabetes            0.0822      0.315      0.261      0.794      -0.536       0.700\n",
              "totChol             0.0016      0.001      1.413      0.158      -0.001       0.004\n",
              "sysBP               0.0125      0.004      3.336      0.001       0.005       0.020\n",
              "diaBP           -2.039e-05      0.006     -0.003      0.997      -0.013       0.012\n",
              "BMI                 0.0084      0.013      0.671      0.502      -0.016       0.033\n",
              "heartRate          -0.0059      0.004     -1.401      0.161      -0.014       0.002\n",
              "glucose             0.0072      0.002      3.249      0.001       0.003       0.012\n",
              "===================================================================================\n",
              "\"\"\""
            ]
          },
          "metadata": {
            "tags": []
          },
          "execution_count": 16
        }
      ]
    },
    {
      "cell_type": "code",
      "metadata": {
        "id": "RWqIlYc0oP9w",
        "colab_type": "code",
        "outputId": "c7953b9b-ce09-49f2-d481-df6a4338a94a",
        "colab": {
          "base_uri": "https://localhost:8080/",
          "height": 444
        }
      },
      "source": [
        "result.summary()\n"
      ],
      "execution_count": 17,
      "outputs": [
        {
          "output_type": "execute_result",
          "data": {
            "text/html": [
              "<table class=\"simpletable\">\n",
              "<caption>Logit Regression Results</caption>\n",
              "<tr>\n",
              "  <th>Dep. Variable:</th>      <td>TenYearCHD</td>    <th>  No. Observations:  </th>  <td>  3658</td>  \n",
              "</tr>\n",
              "<tr>\n",
              "  <th>Model:</th>                 <td>Logit</td>      <th>  Df Residuals:      </th>  <td>  3643</td>  \n",
              "</tr>\n",
              "<tr>\n",
              "  <th>Method:</th>                 <td>MLE</td>       <th>  Df Model:          </th>  <td>    14</td>  \n",
              "</tr>\n",
              "<tr>\n",
              "  <th>Date:</th>            <td>Sun, 18 Aug 2019</td> <th>  Pseudo R-squ.:     </th>  <td>0.1091</td>  \n",
              "</tr>\n",
              "<tr>\n",
              "  <th>Time:</th>                <td>22:22:53</td>     <th>  Log-Likelihood:    </th> <td> -1390.3</td> \n",
              "</tr>\n",
              "<tr>\n",
              "  <th>converged:</th>             <td>True</td>       <th>  LL-Null:           </th> <td> -1560.6</td> \n",
              "</tr>\n",
              "<tr>\n",
              "  <th>Covariance Type:</th>     <td>nonrobust</td>    <th>  LLR p-value:       </th> <td>3.860e-64</td>\n",
              "</tr>\n",
              "</table>\n",
              "<table class=\"simpletable\">\n",
              "<tr>\n",
              "         <td></td>            <th>coef</th>     <th>std err</th>      <th>z</th>      <th>P>|z|</th>  <th>[0.025</th>    <th>0.975]</th>  \n",
              "</tr>\n",
              "<tr>\n",
              "  <th>const</th>           <td>   -7.8757</td> <td>    0.702</td> <td>  -11.214</td> <td> 0.000</td> <td>   -9.252</td> <td>   -6.499</td>\n",
              "</tr>\n",
              "<tr>\n",
              "  <th>age</th>             <td>    0.0656</td> <td>    0.007</td> <td>    9.790</td> <td> 0.000</td> <td>    0.052</td> <td>    0.079</td>\n",
              "</tr>\n",
              "<tr>\n",
              "  <th>education</th>       <td>   -0.0458</td> <td>    0.050</td> <td>   -0.922</td> <td> 0.356</td> <td>   -0.143</td> <td>    0.052</td>\n",
              "</tr>\n",
              "<tr>\n",
              "  <th>currentSmoker</th>   <td>    0.0635</td> <td>    0.155</td> <td>    0.409</td> <td> 0.683</td> <td>   -0.241</td> <td>    0.368</td>\n",
              "</tr>\n",
              "<tr>\n",
              "  <th>cigsPerDay</th>      <td>    0.0261</td> <td>    0.006</td> <td>    4.357</td> <td> 0.000</td> <td>    0.014</td> <td>    0.038</td>\n",
              "</tr>\n",
              "<tr>\n",
              "  <th>BPMeds</th>          <td>    0.1123</td> <td>    0.233</td> <td>    0.482</td> <td> 0.630</td> <td>   -0.345</td> <td>    0.569</td>\n",
              "</tr>\n",
              "<tr>\n",
              "  <th>prevalentStroke</th> <td>    0.7085</td> <td>    0.490</td> <td>    1.447</td> <td> 0.148</td> <td>   -0.251</td> <td>    1.668</td>\n",
              "</tr>\n",
              "<tr>\n",
              "  <th>prevalentHyp</th>    <td>    0.2515</td> <td>    0.138</td> <td>    1.820</td> <td> 0.069</td> <td>   -0.019</td> <td>    0.522</td>\n",
              "</tr>\n",
              "<tr>\n",
              "  <th>diabetes</th>        <td>    0.0822</td> <td>    0.315</td> <td>    0.261</td> <td> 0.794</td> <td>   -0.536</td> <td>    0.700</td>\n",
              "</tr>\n",
              "<tr>\n",
              "  <th>totChol</th>         <td>    0.0016</td> <td>    0.001</td> <td>    1.413</td> <td> 0.158</td> <td>   -0.001</td> <td>    0.004</td>\n",
              "</tr>\n",
              "<tr>\n",
              "  <th>sysBP</th>           <td>    0.0125</td> <td>    0.004</td> <td>    3.336</td> <td> 0.001</td> <td>    0.005</td> <td>    0.020</td>\n",
              "</tr>\n",
              "<tr>\n",
              "  <th>diaBP</th>           <td>-2.039e-05</td> <td>    0.006</td> <td>   -0.003</td> <td> 0.997</td> <td>   -0.013</td> <td>    0.012</td>\n",
              "</tr>\n",
              "<tr>\n",
              "  <th>BMI</th>             <td>    0.0084</td> <td>    0.013</td> <td>    0.671</td> <td> 0.502</td> <td>   -0.016</td> <td>    0.033</td>\n",
              "</tr>\n",
              "<tr>\n",
              "  <th>heartRate</th>       <td>   -0.0059</td> <td>    0.004</td> <td>   -1.401</td> <td> 0.161</td> <td>   -0.014</td> <td>    0.002</td>\n",
              "</tr>\n",
              "<tr>\n",
              "  <th>glucose</th>         <td>    0.0072</td> <td>    0.002</td> <td>    3.249</td> <td> 0.001</td> <td>    0.003</td> <td>    0.012</td>\n",
              "</tr>\n",
              "</table>"
            ],
            "text/plain": [
              "<class 'statsmodels.iolib.summary.Summary'>\n",
              "\"\"\"\n",
              "                           Logit Regression Results                           \n",
              "==============================================================================\n",
              "Dep. Variable:             TenYearCHD   No. Observations:                 3658\n",
              "Model:                          Logit   Df Residuals:                     3643\n",
              "Method:                           MLE   Df Model:                           14\n",
              "Date:                Sun, 18 Aug 2019   Pseudo R-squ.:                  0.1091\n",
              "Time:                        22:22:53   Log-Likelihood:                -1390.3\n",
              "converged:                       True   LL-Null:                       -1560.6\n",
              "Covariance Type:            nonrobust   LLR p-value:                 3.860e-64\n",
              "===================================================================================\n",
              "                      coef    std err          z      P>|z|      [0.025      0.975]\n",
              "-----------------------------------------------------------------------------------\n",
              "const              -7.8757      0.702    -11.214      0.000      -9.252      -6.499\n",
              "age                 0.0656      0.007      9.790      0.000       0.052       0.079\n",
              "education          -0.0458      0.050     -0.922      0.356      -0.143       0.052\n",
              "currentSmoker       0.0635      0.155      0.409      0.683      -0.241       0.368\n",
              "cigsPerDay          0.0261      0.006      4.357      0.000       0.014       0.038\n",
              "BPMeds              0.1123      0.233      0.482      0.630      -0.345       0.569\n",
              "prevalentStroke     0.7085      0.490      1.447      0.148      -0.251       1.668\n",
              "prevalentHyp        0.2515      0.138      1.820      0.069      -0.019       0.522\n",
              "diabetes            0.0822      0.315      0.261      0.794      -0.536       0.700\n",
              "totChol             0.0016      0.001      1.413      0.158      -0.001       0.004\n",
              "sysBP               0.0125      0.004      3.336      0.001       0.005       0.020\n",
              "diaBP           -2.039e-05      0.006     -0.003      0.997      -0.013       0.012\n",
              "BMI                 0.0084      0.013      0.671      0.502      -0.016       0.033\n",
              "heartRate          -0.0059      0.004     -1.401      0.161      -0.014       0.002\n",
              "glucose             0.0072      0.002      3.249      0.001       0.003       0.012\n",
              "===================================================================================\n",
              "\"\"\""
            ]
          },
          "metadata": {
            "tags": []
          },
          "execution_count": 17
        }
      ]
    },
    {
      "cell_type": "markdown",
      "metadata": {
        "id": "50_mTPdY1-AQ",
        "colab_type": "text"
      },
      "source": [
        "# Creating test/train model "
      ]
    },
    {
      "cell_type": "code",
      "metadata": {
        "id": "JT0y8oHp2BLq",
        "colab_type": "code",
        "colab": {}
      },
      "source": [
        "import sklearn\n",
        "from sklearn.model_selection import train_test_split\n",
        "new_features=data\n",
        "x=new_features.iloc[:,:-1]\n",
        "y=new_features.iloc[:,-1]\n",
        "x_train,x_test,y_train,y_test=train_test_split(x,y,test_size=.20,random_state=5)"
      ],
      "execution_count": 0,
      "outputs": []
    },
    {
      "cell_type": "code",
      "metadata": {
        "id": "6dUCNsF22BWt",
        "colab_type": "code",
        "outputId": "2fcbf45f-f955-42a0-deac-1602f8c6c693",
        "colab": {
          "base_uri": "https://localhost:8080/",
          "height": 72
        }
      },
      "source": [
        "from sklearn.linear_model import LogisticRegression\n",
        "logreg=LogisticRegression()\n",
        "logreg.fit(x_train,y_train)\n",
        "y_pred=logreg.predict(x_test)"
      ],
      "execution_count": 19,
      "outputs": [
        {
          "output_type": "stream",
          "text": [
            "/usr/local/lib/python3.6/dist-packages/sklearn/linear_model/logistic.py:432: FutureWarning: Default solver will be changed to 'lbfgs' in 0.22. Specify a solver to silence this warning.\n",
            "  FutureWarning)\n"
          ],
          "name": "stderr"
        }
      ]
    },
    {
      "cell_type": "code",
      "metadata": {
        "id": "pqfM4iSj2BZQ",
        "colab_type": "code",
        "outputId": "41e16960-c0d4-4721-a023-61ed467149f5",
        "colab": {
          "base_uri": "https://localhost:8080/",
          "height": 34
        }
      },
      "source": [
        "#test model accuracy\n",
        "sklearn.metrics.accuracy_score(y_test,y_pred)\n"
      ],
      "execution_count": 20,
      "outputs": [
        {
          "output_type": "execute_result",
          "data": {
            "text/plain": [
              "0.8661202185792349"
            ]
          },
          "metadata": {
            "tags": []
          },
          "execution_count": 20
        }
      ]
    },
    {
      "cell_type": "code",
      "metadata": {
        "id": "W7YIBAds2Bbs",
        "colab_type": "code",
        "outputId": "5f35d7df-e1da-416d-a4ea-f7e8a32ffa3d",
        "colab": {
          "base_uri": "https://localhost:8080/",
          "height": 34
        }
      },
      "source": [
        "sklearn.metrics.roc_auc_score(y_test,y_pred)"
      ],
      "execution_count": 21,
      "outputs": [
        {
          "output_type": "execute_result",
          "data": {
            "text/plain": [
              "0.5368691817736404"
            ]
          },
          "metadata": {
            "tags": []
          },
          "execution_count": 21
        }
      ]
    }
  ]
}